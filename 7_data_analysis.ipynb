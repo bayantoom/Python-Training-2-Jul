{
 "cells": [
  {
   "cell_type": "markdown",
   "metadata": {},
   "source": [
    "<div style=\"display: flex; align-items: center;\">\n",
    "    <img src=\"../img/es_logo.png\" alt=\"title\" style=\"margin-right: 20px;\">\n",
    "    <h1>Data Analysis Using Python</h1>\n",
    "</div>"
   ]
  },
  {
   "cell_type": "markdown",
   "metadata": {},
   "source": [
    "Download the following dataset from kaggel: [Employee Salaries Analysis](https://www.kaggle.com/datasets/sahirmaharajj/employee-salaries-analysis)\n",
    "\n",
    "Using pandas find the following:\n",
    "1. The average salary of all employees\n",
    "2. The Department with the highest average salary\n",
    "3. The average salary of employees based on gender"
   ]
  },
  {
   "cell_type": "code",
   "execution_count": 46,
   "metadata": {},
   "outputs": [
    {
     "name": "stdout",
     "output_type": "stream",
     "text": [
      "The average salary of all employees: 90312.16574420367\n",
      "________________________________________________________________________ \n",
      "\n",
      "The department with highest salary average: IGR\n",
      "________________________________________________________________________ \n",
      "\n",
      "Salary average based on gender: \n",
      "         Base_Salary\n",
      "Gender              \n",
      "F       87497.502790\n",
      "M       92382.929752\n",
      "________________________________________________________________________ \n",
      "\n"
     ]
    }
   ],
   "source": [
    "import pandas as pd \n",
    "\n",
    "data = pd.read_csv('Employee_Salaries.csv')\n",
    "\n",
    "print(f\"The average salary of all employees: {data[\"Base_Salary\"].mean()}\")\n",
    "\n",
    "print(\"________________________________________________________________________ \\n\")\n",
    "\n",
    "department_salary = data.groupby('Department').agg({'Base_Salary': 'mean'})\n",
    "max = department_salary[\"Base_Salary\"].idxmax()\n",
    "\n",
    "print(f\"The department with highest salary average: {max}\")\n",
    "\n",
    "print(\"________________________________________________________________________ \\n\")\n",
    "\n",
    "gender_salary = data.groupby('Gender').agg({'Base_Salary': 'mean'})\n",
    "\n",
    "print(f\"Salary average based on gender: \\n{gender_salary}\")\n",
    "\n",
    "print(\"________________________________________________________________________ \\n\")\n",
    "\n"
   ]
  }
 ],
 "metadata": {
  "kernelspec": {
   "display_name": "Python 3",
   "language": "python",
   "name": "python3"
  },
  "language_info": {
   "codemirror_mode": {
    "name": "ipython",
    "version": 3
   },
   "file_extension": ".py",
   "mimetype": "text/x-python",
   "name": "python",
   "nbconvert_exporter": "python",
   "pygments_lexer": "ipython3",
   "version": "3.12.3"
  }
 },
 "nbformat": 4,
 "nbformat_minor": 2
}
